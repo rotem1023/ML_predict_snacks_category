{
 "cells": [
  {
   "cell_type": "markdown",
   "metadata": {
    "id": "-5i6Jezf5qUH"
   },
   "source": [
    "# <font color='purple'>ML Prediction - CNN for image classification </font>"
   ]
  },
  {
   "cell_type": "code",
   "execution_count": null,
   "metadata": {
    "id": "j7b3s24Ynvhw"
   },
   "outputs": [],
   "source": [
    "import tensorflow as tf\n",
    "from tensorflow import keras\n",
    "from keras.models import Sequential\n",
    "from keras.layers import Dense, Flatten, Conv2D, MaxPooling2D, Dropout, Input, MaxPool2D, GlobalAveragePooling2D\n",
    "from tensorflow.keras import layers\n",
    "#from keras.utils import to_categorical\n",
    "import numpy as np\n",
    "import pandas as pd\n",
    "import matplotlib.pyplot as plt\n",
    "plt.style.use('fivethirtyeight')\n",
    "from tensorflow.keras import datasets, layers, models\n",
    "from tensorflow.keras.metrics import Precision, Recall, CategoricalAccuracy\n",
    "from tensorflow.keras.models import load_model, Model\n",
    "from tensorflow.keras.callbacks import EarlyStopping, Callback\n",
    "import cv2\n",
    "from os import listdir\n",
    "from os.path import isfile, join\n",
    "from google.colab import files\n",
    "from tensorflow.keras.preprocessing.image import ImageDataGenerator\n",
    "from keras.callbacks import ReduceLROnPlateau, ModelCheckpoint, EarlyStopping\n",
    "from keras.regularizers import l2\n",
    "from sklearn.metrics import accuracy_score\n",
    "from sklearn.metrics import confusion_matrix\n",
    "from tensorflow.keras.applications.mobilenet import MobileNet\n",
    "from tensorflow.keras.layers import GlobalAveragePooling2D\n"
   ]
  },
  {
   "cell_type": "code",
   "execution_count": null,
   "metadata": {
    "colab": {
     "base_uri": "https://localhost:8080/"
    },
    "executionInfo": {
     "elapsed": 23844,
     "status": "ok",
     "timestamp": 1659185783668,
     "user": {
      "displayName": "רותם נזהר",
      "userId": "02152016873705506588"
     },
     "user_tz": -180
    },
    "id": "1QPg0aSToPh0",
    "outputId": "2ba678a4-b9a1-45b1-eb42-7bf9487cbd8e"
   },
   "outputs": [
    {
     "name": "stdout",
     "output_type": "stream",
     "text": [
      "Mounted at /content/drive\n"
     ]
    }
   ],
   "source": [
    "from google.colab import drive\n",
    "drive.mount('/content/drive')"
   ]
  },
  {
   "cell_type": "code",
   "execution_count": null,
   "metadata": {
    "colab": {
     "base_uri": "https://localhost:8080/"
    },
    "executionInfo": {
     "elapsed": 7,
     "status": "ok",
     "timestamp": 1659185783668,
     "user": {
      "displayName": "רותם נזהר",
      "userId": "02152016873705506588"
     },
     "user_tz": -180
    },
    "id": "BknKVqwaoRhw",
    "outputId": "34f1a3e2-82ad-4b4e-b354-9196c2d4e660"
   },
   "outputs": [
    {
     "name": "stdout",
     "output_type": "stream",
     "text": [
      "/content/drive/MyDrive/proj_DS\n"
     ]
    }
   ],
   "source": [
    "%cd \"/content/drive/MyDrive/proj_DS\""
   ]
  },
  {
   "cell_type": "code",
   "execution_count": null,
   "metadata": {
    "id": "hcR2XCOWoYJZ"
   },
   "outputs": [],
   "source": [
    "DIR = '/content/drive/MyDrive/proj_DS/train'\n",
    "test_DIR = '/content/drive/MyDrive/proj_DS/test'"
   ]
  },
  {
   "cell_type": "code",
   "execution_count": null,
   "metadata": {
    "id": "2knv7laht6Uf"
   },
   "outputs": [],
   "source": [
    "!unzip foods_final.zip"
   ]
  },
  {
   "cell_type": "code",
   "execution_count": null,
   "metadata": {
    "id": "i16JaRDoogGn"
   },
   "outputs": [],
   "source": [
    "train_datagen = ImageDataGenerator(validation_split=0.3, rescale = 1. / 255)\n",
    "test_datagen = ImageDataGenerator(rescale = 1. / 255)"
   ]
  },
  {
   "cell_type": "code",
   "execution_count": null,
   "metadata": {
    "colab": {
     "base_uri": "https://localhost:8080/"
    },
    "executionInfo": {
     "elapsed": 105192,
     "status": "ok",
     "timestamp": 1659185895006,
     "user": {
      "displayName": "רותם נזהר",
      "userId": "02152016873705506588"
     },
     "user_tz": -180
    },
    "id": "IWDPquCVr9lJ",
    "outputId": "c2660f31-d344-4b4e-ac7b-8acd1a04511a"
   },
   "outputs": [
    {
     "name": "stdout",
     "output_type": "stream",
     "text": [
      "Found 22228 images belonging to 6 classes.\n",
      "Found 9523 images belonging to 6 classes.\n",
      "Found 3525 images belonging to 1 classes.\n"
     ]
    }
   ],
   "source": [
    "train_generator = train_datagen.flow_from_directory(\n",
    " DIR,\n",
    " target_size = (160,160),\n",
    " color_mode = 'rgb',\n",
    " batch_size = 32,\n",
    " class_mode = 'categorical',\n",
    " shuffle = True,\n",
    " seed = 42, \n",
    " subset = \"training\"\n",
    ")\n",
    "\n",
    "validation_generator = train_datagen.flow_from_directory(\n",
    " DIR,\n",
    " target_size = (160,160),\n",
    " color_mode = 'rgb',\n",
    " batch_size = 32,\n",
    " class_mode = 'categorical',\n",
    " shuffle = True,\n",
    " seed = 42, \n",
    " subset = \"validation\"\n",
    ")\n",
    "\n",
    "test_generator = test_datagen.flow_from_directory(\n",
    " '/content/drive/MyDrive/proj_DS/test',\n",
    " target_size = (160,160),\n",
    " color_mode = 'rgb',\n",
    " batch_size = 10,\n",
    " class_mode = 'categorical',\n",
    " shuffle = False,\n",
    " seed =42\n",
    ")"
   ]
  },
  {
   "cell_type": "code",
   "execution_count": null,
   "metadata": {
    "colab": {
     "base_uri": "https://localhost:8080/"
    },
    "executionInfo": {
     "elapsed": 244,
     "status": "ok",
     "timestamp": 1659181774871,
     "user": {
      "displayName": "רותם נזהר",
      "userId": "02152016873705506588"
     },
     "user_tz": -180
    },
    "id": "6Zjcp0Li6EEh",
    "outputId": "73cc87ae-941e-44f2-e1ad-cf0eff764465"
   },
   "outputs": [
    {
     "data": {
      "text/plain": [
       "{'cakes_cupcakes_snack_cakes': 0,\n",
       " 'candy': 1,\n",
       " 'chips_pretzels_snacks': 2,\n",
       " 'chocolate': 3,\n",
       " 'cookies_biscuits': 4,\n",
       " 'popcorn_peanuts_seeds_related_snacks': 5}"
      ]
     },
     "execution_count": 12,
     "metadata": {},
     "output_type": "execute_result"
    }
   ],
   "source": [
    "# lables the model will give to each class\n",
    "label_map = (train_generator.class_indices)\n",
    "label_map"
   ]
  },
  {
   "cell_type": "markdown",
   "metadata": {
    "id": "eP87YC2tOm2Z"
   },
   "source": [
    "# Train model"
   ]
  },
  {
   "cell_type": "code",
   "execution_count": null,
   "metadata": {
    "colab": {
     "base_uri": "https://localhost:8080/"
    },
    "executionInfo": {
     "elapsed": 3558,
     "status": "ok",
     "timestamp": 1659172213558,
     "user": {
      "displayName": "רותם נזהר",
      "userId": "02152016873705506588"
     },
     "user_tz": -180
    },
    "id": "nyhrR6mCVcri",
    "outputId": "640521bc-8058-4829-c21b-7a23bee88ca9"
   },
   "outputs": [
    {
     "name": "stdout",
     "output_type": "stream",
     "text": [
      "Downloading data from https://storage.googleapis.com/tensorflow/keras-applications/mobilenet/mobilenet_1_0_160_tf_no_top.h5\n",
      "17227776/17225924 [==============================] - 1s 0us/step\n",
      "17235968/17225924 [==============================] - 1s 0us/step\n"
     ]
    }
   ],
   "source": [
    "base_model = MobileNet(weights='imagenet', include_top=False,input_shape = (160, 160, 3))\n",
    "l = base_model.output\n",
    "l = GlobalAveragePooling2D()(l)\n",
    "out = Dense(6, activation=\"softmax\")(l)\n",
    "model = Model(inputs = base_model.input, outputs = out)\n",
    "#callbacks\n",
    "checkpointer = ModelCheckpoint(filepath='model.hdf5', verbose=1, save_best_only=True, save_weights_only=True)\n",
    "earlystopping = EarlyStopping(monitor='val_loss', min_delta=0.01, patience=20, mode='auto')\n",
    "reduceLR = ReduceLROnPlateau(monitor='val_loss', factor=0.5, patience=10, mode='auto')\n",
    "# compile\n",
    "model.compile(loss=\"categorical_crossentropy\",optimizer='adam', metrics=['accuracy'])\n"
   ]
  },
  {
   "cell_type": "code",
   "execution_count": null,
   "metadata": {
    "id": "GtA1BBQ__GxV"
   },
   "outputs": [],
   "source": [
    "history = model.fit(train_generator,steps_per_epoch=2250/64,\n",
    "                              validation_data=validation_generator,validation_steps=750/64, \n",
    "                              epochs=100, callbacks=[checkpointer, reduceLR, earlystopping])"
   ]
  },
  {
   "cell_type": "markdown",
   "metadata": {
    "id": "1Nz2L2Lr5dQP"
   },
   "source": [
    "# Evaluate model"
   ]
  },
  {
   "cell_type": "code",
   "execution_count": null,
   "metadata": {
    "colab": {
     "base_uri": "https://localhost:8080/",
     "height": 622
    },
    "executionInfo": {
     "elapsed": 1546,
     "status": "ok",
     "timestamp": 1659180868722,
     "user": {
      "displayName": "רותם נזהר",
      "userId": "02152016873705506588"
     },
     "user_tz": -180
    },
    "id": "YPW_jY0qBQB-",
    "outputId": "478092fd-1e15-4f11-85d6-de5790908601"
   },
   "outputs": [
    {
     "data": {
      "image/png": "[encoded data removed]",
      "text/plain": [
       "<Figure size 1080x720 with 2 Axes>"
      ]
     },
     "metadata": {
      "needs_background": "light"
     },
     "output_type": "display_data"
    }
   ],
   "source": [
    "def plot_hist(history):\n",
    "    f,ax = plt.subplots(2,1,figsize=(15,10))\n",
    "    ax[0].plot(history.history['accuracy'],c='C2')\n",
    "    ax[0].plot(history.history['val_accuracy'],c='C3')\n",
    "    ax[0].set_title('Model accuracy')\n",
    "    ax[0].set_ylabel('Accuracy')\n",
    "    ax[0].set_xlabel('Epoch')\n",
    "    ax[0].legend(['Train', 'Validation'], loc='upper left')\n",
    "    \n",
    "    # summarize history for loss\n",
    "    ax[1].plot(history.history['loss'],c='C0')\n",
    "    ax[1].plot(history.history['val_loss'],c='C1')\n",
    "    ax[1].set_title('Model loss')\n",
    "    ax[1].set_ylabel('Loss')\n",
    "    ax[1].set_xlabel('Epoch')\n",
    "    ax[1].legend(['Train', 'Validation'], loc='upper left')\n",
    "    \n",
    "plot_hist(history)"
   ]
  },
  {
   "cell_type": "code",
   "execution_count": null,
   "metadata": {
    "colab": {
     "base_uri": "https://localhost:8080/",
     "height": 488
    },
    "executionInfo": {
     "elapsed": 9,
     "status": "ok",
     "timestamp": 1659180796060,
     "user": {
      "displayName": "רותם נזהר",
      "userId": "02152016873705506588"
     },
     "user_tz": -180
    },
    "id": "UxLC0HVUFxqL",
    "outputId": "50b1d8b6-a16d-490a-ca3a-1f0de6d0f608"
   },
   "outputs": [
    {
     "data": {
      "image/png": "[encoded data removed]",
      "text/plain": [
       "<Figure size 432x288 with 2 Axes>"
      ]
     },
     "metadata": {
      "needs_background": "light"
     },
     "output_type": "display_data"
    }
   ],
   "source": [
    "x_test, y_test = validation_generator.next()\n",
    "y_pred_conf = model.predict(x_test) #return probabilities of each class\n",
    "y_pred = np.argmax(y_pred_conf,axis=1)\n",
    "y_label = np.argmax(y_test,axis=1)\n",
    "def plot_confusion_matrix(cm):\n",
    "    plt.imshow(cm, interpolation='nearest', cmap=plt.cm.Blues)\n",
    "    plt.title('Confusion matrix',fontsize=15)\n",
    "    plt.colorbar()\n",
    "    classes= [\"cakes_cupcakes_snack_cakes\", \"candy\", \"chips_pretzels_snacks\", \"chocolate\" , \"cookies_biscuits\", \"popcorn_peanuts_seeds_related_snacks\"]\n",
    "    plt.xticks([0,1,2,3,4,5], classes, fontsize=10, rotation='vertical')\n",
    "    plt.yticks([0,1,2,3,4,5], classes, fontsize=10,verticalalignment=\"center\", rotation='horizontal')\n",
    "    for i in range(cm.shape[0]):\n",
    "        for j in range(cm.shape[1]):\n",
    "            plt.text(j, i, format(cm[i, j], 'd'), horizontalalignment=\"center\", color=\"white\" if cm[i, j] > np.max(cm)/2. else \"black\")\n",
    "    plt.xlabel('Predicted label',fontsize=15)\n",
    "    plt.ylabel('True label',fontsize=15)\n",
    "    \n",
    "plot_confusion_matrix(confusion_matrix(y_label,y_pred))"
   ]
  },
  {
   "cell_type": "markdown",
   "metadata": {
    "id": "bCRnzqHy5E4u"
   },
   "source": [
    "# Get predictions"
   ]
  },
  {
   "cell_type": "code",
   "execution_count": null,
   "metadata": {
    "id": "toNE30N1fKSe"
   },
   "outputs": [],
   "source": [
    "def get_predictions_of_dir(mypath, dst):\n",
    "  onlyfiles = [f for f in listdir(mypath) if isfile(join(mypath, f))]\n",
    "  table = pd.DataFrame({'img':[], \"prediction\":[]})\n",
    "  for file in onlyfiles:\n",
    "    img =cv2.imread(f\"{mypath}/{file}\")\n",
    "    resize = tf.image.resize(img, (160,160))\n",
    "    yhat = np.argmax(model.predict(np.expand_dims(resize/255, 0)))\n",
    "    table.loc[len(table.index)] = [int(file[:-4]), yhat]\n",
    "  table.to_csv(dst, encoding = 'utf-8-sig', index =False) \n",
    "  files.download(dst)\n",
    "  return(table)\n"
   ]
  },
  {
   "cell_type": "code",
   "execution_count": null,
   "metadata": {
    "colab": {
     "base_uri": "https://localhost:8080/",
     "height": 17
    },
    "executionInfo": {
     "elapsed": 200007,
     "status": "ok",
     "timestamp": 1659174388822,
     "user": {
      "displayName": "רותם נזהר",
      "userId": "02152016873705506588"
     },
     "user_tz": -180
    },
    "id": "GsRj-2TTfNyX",
    "outputId": "528e271b-a396-493c-c89a-2068e7aa2154"
   },
   "outputs": [
    {
     "data": {
      "application/javascript": [
       "\n",
       "    async function download(id, filename, size) {\n",
       "      if (!google.colab.kernel.accessAllowed) {\n",
       "        return;\n",
       "      }\n",
       "      const div = document.createElement('div');\n",
       "      const label = document.createElement('label');\n",
       "      label.textContent = `Downloading \"${filename}\": `;\n",
       "      div.appendChild(label);\n",
       "      const progress = document.createElement('progress');\n",
       "      progress.max = size;\n",
       "      div.appendChild(progress);\n",
       "      document.body.appendChild(div);\n",
       "\n",
       "      const buffers = [];\n",
       "      let downloaded = 0;\n",
       "\n",
       "      const channel = await google.colab.kernel.comms.open(id);\n",
       "      // Send a message to notify the kernel that we're ready.\n",
       "      channel.send({})\n",
       "\n",
       "      for await (const message of channel.messages) {\n",
       "        // Send a message to notify the kernel that we're ready.\n",
       "        channel.send({})\n",
       "        if (message.buffers) {\n",
       "          for (const buffer of message.buffers) {\n",
       "            buffers.push(buffer);\n",
       "            downloaded += buffer.byteLength;\n",
       "            progress.value = downloaded;\n",
       "          }\n",
       "        }\n",
       "      }\n",
       "      const blob = new Blob(buffers, {type: 'application/binary'});\n",
       "      const a = document.createElement('a');\n",
       "      a.href = window.URL.createObjectURL(blob);\n",
       "      a.download = filename;\n",
       "      div.appendChild(a);\n",
       "      a.click();\n",
       "      div.remove();\n",
       "    }\n",
       "  "
      ],
      "text/plain": [
       "<IPython.core.display.Javascript object>"
      ]
     },
     "metadata": {},
     "output_type": "display_data"
    },
    {
     "data": {
      "application/javascript": [
       "download(\"download_806914c8-498e-4c99-97d2-8d4c01ec6fd5\", \"test.csv\", 41193)"
      ],
      "text/plain": [
       "<IPython.core.display.Javascript object>"
      ]
     },
     "metadata": {},
     "output_type": "display_data"
    }
   ],
   "source": [
    "test_table = get_predictions_of_dir('/content/drive/MyDrive/proj_DS/test/test_check', 'test.csv')"
   ]
  },
  {
   "cell_type": "code",
   "execution_count": null,
   "metadata": {
    "colab": {
     "base_uri": "https://localhost:8080/",
     "height": 17
    },
    "executionInfo": {
     "elapsed": 385418,
     "status": "ok",
     "timestamp": 1659175886482,
     "user": {
      "displayName": "רותם נזהר",
      "userId": "02152016873705506588"
     },
     "user_tz": -180
    },
    "id": "YOn8FRi8fgEH",
    "outputId": "3633879c-5080-491d-d88c-0e21fb8bcb97"
   },
   "outputs": [
    {
     "data": {
      "application/javascript": [
       "\n",
       "    async function download(id, filename, size) {\n",
       "      if (!google.colab.kernel.accessAllowed) {\n",
       "        return;\n",
       "      }\n",
       "      const div = document.createElement('div');\n",
       "      const label = document.createElement('label');\n",
       "      label.textContent = `Downloading \"${filename}\": `;\n",
       "      div.appendChild(label);\n",
       "      const progress = document.createElement('progress');\n",
       "      progress.max = size;\n",
       "      div.appendChild(progress);\n",
       "      document.body.appendChild(div);\n",
       "\n",
       "      const buffers = [];\n",
       "      let downloaded = 0;\n",
       "\n",
       "      const channel = await google.colab.kernel.comms.open(id);\n",
       "      // Send a message to notify the kernel that we're ready.\n",
       "      channel.send({})\n",
       "\n",
       "      for await (const message of channel.messages) {\n",
       "        // Send a message to notify the kernel that we're ready.\n",
       "        channel.send({})\n",
       "        if (message.buffers) {\n",
       "          for (const buffer of message.buffers) {\n",
       "            buffers.push(buffer);\n",
       "            downloaded += buffer.byteLength;\n",
       "            progress.value = downloaded;\n",
       "          }\n",
       "        }\n",
       "      }\n",
       "      const blob = new Blob(buffers, {type: 'application/binary'});\n",
       "      const a = document.createElement('a');\n",
       "      a.href = window.URL.createObjectURL(blob);\n",
       "      a.download = filename;\n",
       "      div.appendChild(a);\n",
       "      a.click();\n",
       "      div.remove();\n",
       "    }\n",
       "  "
      ],
      "text/plain": [
       "<IPython.core.display.Javascript object>"
      ]
     },
     "metadata": {},
     "output_type": "display_data"
    },
    {
     "data": {
      "application/javascript": [
       "download(\"download_cc0bd673-e7c7-49c1-8ca6-149e7cdd991a\", \"popcorn_peanuts_seeds_related_snacks.csv\", 88974)"
      ],
      "text/plain": [
       "<IPython.core.display.Javascript object>"
      ]
     },
     "metadata": {},
     "output_type": "display_data"
    }
   ],
   "source": [
    "popcorn_table = get_predictions_of_dir('/content/drive/MyDrive/proj_DS/train/popcorn_peanuts_seeds_related_snacks', 'popcorn_peanuts_seeds_related_snacks.csv')"
   ]
  },
  {
   "cell_type": "code",
   "execution_count": null,
   "metadata": {
    "colab": {
     "base_uri": "https://localhost:8080/",
     "height": 17
    },
    "executionInfo": {
     "elapsed": 266286,
     "status": "ok",
     "timestamp": 1659176152753,
     "user": {
      "displayName": "רותם נזהר",
      "userId": "02152016873705506588"
     },
     "user_tz": -180
    },
    "id": "7ZiQE9eSfm14",
    "outputId": "810b018d-cf1e-4094-824a-a20c961bf497"
   },
   "outputs": [
    {
     "data": {
      "application/javascript": [
       "\n",
       "    async function download(id, filename, size) {\n",
       "      if (!google.colab.kernel.accessAllowed) {\n",
       "        return;\n",
       "      }\n",
       "      const div = document.createElement('div');\n",
       "      const label = document.createElement('label');\n",
       "      label.textContent = `Downloading \"${filename}\": `;\n",
       "      div.appendChild(label);\n",
       "      const progress = document.createElement('progress');\n",
       "      progress.max = size;\n",
       "      div.appendChild(progress);\n",
       "      document.body.appendChild(div);\n",
       "\n",
       "      const buffers = [];\n",
       "      let downloaded = 0;\n",
       "\n",
       "      const channel = await google.colab.kernel.comms.open(id);\n",
       "      // Send a message to notify the kernel that we're ready.\n",
       "      channel.send({})\n",
       "\n",
       "      for await (const message of channel.messages) {\n",
       "        // Send a message to notify the kernel that we're ready.\n",
       "        channel.send({})\n",
       "        if (message.buffers) {\n",
       "          for (const buffer of message.buffers) {\n",
       "            buffers.push(buffer);\n",
       "            downloaded += buffer.byteLength;\n",
       "            progress.value = downloaded;\n",
       "          }\n",
       "        }\n",
       "      }\n",
       "      const blob = new Blob(buffers, {type: 'application/binary'});\n",
       "      const a = document.createElement('a');\n",
       "      a.href = window.URL.createObjectURL(blob);\n",
       "      a.download = filename;\n",
       "      div.appendChild(a);\n",
       "      a.click();\n",
       "      div.remove();\n",
       "    }\n",
       "  "
      ],
      "text/plain": [
       "<IPython.core.display.Javascript object>"
      ]
     },
     "metadata": {},
     "output_type": "display_data"
    },
    {
     "data": {
      "application/javascript": [
       "download(\"download_89c9baf1-6a9f-480a-97b9-4d663d912ea6\", \"cookies_biscuits.csv\", 61607)"
      ],
      "text/plain": [
       "<IPython.core.display.Javascript object>"
      ]
     },
     "metadata": {},
     "output_type": "display_data"
    }
   ],
   "source": [
    "cookies_biscuits_table = get_predictions_of_dir('/content/drive/MyDrive/proj_DS/train/cookies_biscuits', 'cookies_biscuits.csv')"
   ]
  },
  {
   "cell_type": "code",
   "execution_count": null,
   "metadata": {
    "colab": {
     "base_uri": "https://localhost:8080/",
     "height": 17
    },
    "executionInfo": {
     "elapsed": 189000,
     "status": "ok",
     "timestamp": 1659176341747,
     "user": {
      "displayName": "רותם נזהר",
      "userId": "02152016873705506588"
     },
     "user_tz": -180
    },
    "id": "g-9M1ZGnfvHz",
    "outputId": "8d85623a-c823-48cc-a284-70d2c1418c3b"
   },
   "outputs": [
    {
     "data": {
      "application/javascript": [
       "\n",
       "    async function download(id, filename, size) {\n",
       "      if (!google.colab.kernel.accessAllowed) {\n",
       "        return;\n",
       "      }\n",
       "      const div = document.createElement('div');\n",
       "      const label = document.createElement('label');\n",
       "      label.textContent = `Downloading \"${filename}\": `;\n",
       "      div.appendChild(label);\n",
       "      const progress = document.createElement('progress');\n",
       "      progress.max = size;\n",
       "      div.appendChild(progress);\n",
       "      document.body.appendChild(div);\n",
       "\n",
       "      const buffers = [];\n",
       "      let downloaded = 0;\n",
       "\n",
       "      const channel = await google.colab.kernel.comms.open(id);\n",
       "      // Send a message to notify the kernel that we're ready.\n",
       "      channel.send({})\n",
       "\n",
       "      for await (const message of channel.messages) {\n",
       "        // Send a message to notify the kernel that we're ready.\n",
       "        channel.send({})\n",
       "        if (message.buffers) {\n",
       "          for (const buffer of message.buffers) {\n",
       "            buffers.push(buffer);\n",
       "            downloaded += buffer.byteLength;\n",
       "            progress.value = downloaded;\n",
       "          }\n",
       "        }\n",
       "      }\n",
       "      const blob = new Blob(buffers, {type: 'application/binary'});\n",
       "      const a = document.createElement('a');\n",
       "      a.href = window.URL.createObjectURL(blob);\n",
       "      a.download = filename;\n",
       "      div.appendChild(a);\n",
       "      a.click();\n",
       "      div.remove();\n",
       "    }\n",
       "  "
      ],
      "text/plain": [
       "<IPython.core.display.Javascript object>"
      ]
     },
     "metadata": {},
     "output_type": "display_data"
    },
    {
     "data": {
      "application/javascript": [
       "download(\"download_4fd74c0d-70e9-4e1c-a4ee-e0c3de1a272e\", \"chocolate.csv\", 44038)"
      ],
      "text/plain": [
       "<IPython.core.display.Javascript object>"
      ]
     },
     "metadata": {},
     "output_type": "display_data"
    }
   ],
   "source": [
    "chocolate_table = get_predictions_of_dir('/content/drive/MyDrive/proj_DS/train/chocolate', 'chocolate.csv')"
   ]
  },
  {
   "cell_type": "code",
   "execution_count": null,
   "metadata": {
    "colab": {
     "base_uri": "https://localhost:8080/",
     "height": 17
    },
    "executionInfo": {
     "elapsed": 193477,
     "status": "ok",
     "timestamp": 1659174665133,
     "user": {
      "displayName": "רותם נזהר",
      "userId": "02152016873705506588"
     },
     "user_tz": -180
    },
    "id": "Pie46LyTf20S",
    "outputId": "59908993-a699-4728-984f-06800dfe0718"
   },
   "outputs": [
    {
     "data": {
      "application/javascript": [
       "\n",
       "    async function download(id, filename, size) {\n",
       "      if (!google.colab.kernel.accessAllowed) {\n",
       "        return;\n",
       "      }\n",
       "      const div = document.createElement('div');\n",
       "      const label = document.createElement('label');\n",
       "      label.textContent = `Downloading \"${filename}\": `;\n",
       "      div.appendChild(label);\n",
       "      const progress = document.createElement('progress');\n",
       "      progress.max = size;\n",
       "      div.appendChild(progress);\n",
       "      document.body.appendChild(div);\n",
       "\n",
       "      const buffers = [];\n",
       "      let downloaded = 0;\n",
       "\n",
       "      const channel = await google.colab.kernel.comms.open(id);\n",
       "      // Send a message to notify the kernel that we're ready.\n",
       "      channel.send({})\n",
       "\n",
       "      for await (const message of channel.messages) {\n",
       "        // Send a message to notify the kernel that we're ready.\n",
       "        channel.send({})\n",
       "        if (message.buffers) {\n",
       "          for (const buffer of message.buffers) {\n",
       "            buffers.push(buffer);\n",
       "            downloaded += buffer.byteLength;\n",
       "            progress.value = downloaded;\n",
       "          }\n",
       "        }\n",
       "      }\n",
       "      const blob = new Blob(buffers, {type: 'application/binary'});\n",
       "      const a = document.createElement('a');\n",
       "      a.href = window.URL.createObjectURL(blob);\n",
       "      a.download = filename;\n",
       "      div.appendChild(a);\n",
       "      a.click();\n",
       "      div.remove();\n",
       "    }\n",
       "  "
      ],
      "text/plain": [
       "<IPython.core.display.Javascript object>"
      ]
     },
     "metadata": {},
     "output_type": "display_data"
    },
    {
     "data": {
      "application/javascript": [
       "download(\"download_ce80bd50-e02c-4a80-ae7a-a09496a80d60\", \"chips_pretzels_snacks.csv\", 42694)"
      ],
      "text/plain": [
       "<IPython.core.display.Javascript object>"
      ]
     },
     "metadata": {},
     "output_type": "display_data"
    }
   ],
   "source": [
    "chips_table = get_predictions_of_dir('/content/drive/MyDrive/proj_DS/train/chips_pretzels_snacks', 'chips_pretzels_snacks.csv')"
   ]
  },
  {
   "cell_type": "code",
   "execution_count": null,
   "metadata": {
    "colab": {
     "base_uri": "https://localhost:8080/",
     "height": 17
    },
    "executionInfo": {
     "elapsed": 377133,
     "status": "ok",
     "timestamp": 1659175070739,
     "user": {
      "displayName": "רותם נזהר",
      "userId": "02152016873705506588"
     },
     "user_tz": -180
    },
    "id": "Nm0FpL1ogCaV",
    "outputId": "356b3dfd-b956-4f69-e5fd-482c1fd7b094"
   },
   "outputs": [
    {
     "data": {
      "application/javascript": [
       "\n",
       "    async function download(id, filename, size) {\n",
       "      if (!google.colab.kernel.accessAllowed) {\n",
       "        return;\n",
       "      }\n",
       "      const div = document.createElement('div');\n",
       "      const label = document.createElement('label');\n",
       "      label.textContent = `Downloading \"${filename}\": `;\n",
       "      div.appendChild(label);\n",
       "      const progress = document.createElement('progress');\n",
       "      progress.max = size;\n",
       "      div.appendChild(progress);\n",
       "      document.body.appendChild(div);\n",
       "\n",
       "      const buffers = [];\n",
       "      let downloaded = 0;\n",
       "\n",
       "      const channel = await google.colab.kernel.comms.open(id);\n",
       "      // Send a message to notify the kernel that we're ready.\n",
       "      channel.send({})\n",
       "\n",
       "      for await (const message of channel.messages) {\n",
       "        // Send a message to notify the kernel that we're ready.\n",
       "        channel.send({})\n",
       "        if (message.buffers) {\n",
       "          for (const buffer of message.buffers) {\n",
       "            buffers.push(buffer);\n",
       "            downloaded += buffer.byteLength;\n",
       "            progress.value = downloaded;\n",
       "          }\n",
       "        }\n",
       "      }\n",
       "      const blob = new Blob(buffers, {type: 'application/binary'});\n",
       "      const a = document.createElement('a');\n",
       "      a.href = window.URL.createObjectURL(blob);\n",
       "      a.download = filename;\n",
       "      div.appendChild(a);\n",
       "      a.click();\n",
       "      div.remove();\n",
       "    }\n",
       "  "
      ],
      "text/plain": [
       "<IPython.core.display.Javascript object>"
      ]
     },
     "metadata": {},
     "output_type": "display_data"
    },
    {
     "data": {
      "application/javascript": [
       "download(\"download_7508c520-a7e2-4aa3-80f7-41171252d6a9\", \"candy.csv\", 88932)"
      ],
      "text/plain": [
       "<IPython.core.display.Javascript object>"
      ]
     },
     "metadata": {},
     "output_type": "display_data"
    }
   ],
   "source": [
    "candy_table = get_predictions_of_dir('/content/drive/MyDrive/proj_DS/train/candy', 'candy.csv')"
   ]
  },
  {
   "cell_type": "code",
   "execution_count": null,
   "metadata": {
    "colab": {
     "base_uri": "https://localhost:8080/",
     "height": 17
    },
    "executionInfo": {
     "elapsed": 188691,
     "status": "ok",
     "timestamp": 1659175259420,
     "user": {
      "displayName": "רותם נזהר",
      "userId": "02152016873705506588"
     },
     "user_tz": -180
    },
    "id": "QpRd2cLxgZoq",
    "outputId": "bfad462a-01da-4ee4-d862-945414250a8c"
   },
   "outputs": [
    {
     "data": {
      "application/javascript": [
       "\n",
       "    async function download(id, filename, size) {\n",
       "      if (!google.colab.kernel.accessAllowed) {\n",
       "        return;\n",
       "      }\n",
       "      const div = document.createElement('div');\n",
       "      const label = document.createElement('label');\n",
       "      label.textContent = `Downloading \"${filename}\": `;\n",
       "      div.appendChild(label);\n",
       "      const progress = document.createElement('progress');\n",
       "      progress.max = size;\n",
       "      div.appendChild(progress);\n",
       "      document.body.appendChild(div);\n",
       "\n",
       "      const buffers = [];\n",
       "      let downloaded = 0;\n",
       "\n",
       "      const channel = await google.colab.kernel.comms.open(id);\n",
       "      // Send a message to notify the kernel that we're ready.\n",
       "      channel.send({})\n",
       "\n",
       "      for await (const message of channel.messages) {\n",
       "        // Send a message to notify the kernel that we're ready.\n",
       "        channel.send({})\n",
       "        if (message.buffers) {\n",
       "          for (const buffer of message.buffers) {\n",
       "            buffers.push(buffer);\n",
       "            downloaded += buffer.byteLength;\n",
       "            progress.value = downloaded;\n",
       "          }\n",
       "        }\n",
       "      }\n",
       "      const blob = new Blob(buffers, {type: 'application/binary'});\n",
       "      const a = document.createElement('a');\n",
       "      a.href = window.URL.createObjectURL(blob);\n",
       "      a.download = filename;\n",
       "      div.appendChild(a);\n",
       "      a.click();\n",
       "      div.remove();\n",
       "    }\n",
       "  "
      ],
      "text/plain": [
       "<IPython.core.display.Javascript object>"
      ]
     },
     "metadata": {},
     "output_type": "display_data"
    },
    {
     "data": {
      "application/javascript": [
       "download(\"download_8265ee68-a52f-4f1e-b1ae-c0f284d9b9eb\", \"cakes_cupcakes_snack_cakes.csv\", 44894)"
      ],
      "text/plain": [
       "<IPython.core.display.Javascript object>"
      ]
     },
     "metadata": {},
     "output_type": "display_data"
    }
   ],
   "source": [
    "cake_table = get_predictions_of_dir('/content/drive/MyDrive/proj_DS/train/cakes_cupcakes_snack_cakes', 'cakes_cupcakes_snack_cakes.csv')"
   ]
  },
  {
   "cell_type": "markdown",
   "metadata": {},
   "source": [
    "# summary"
   ]
  },
  {
   "cell_type": "markdown",
   "metadata": {},
   "source": [
    "The model that we present here is thr last model we tried. <br>\n",
    "Prior to it we tried many different models with different hyperparemetrs ,such as :number of epochs, number of layers, with/without dropouts, different activation map and more. <br>\n",
    "All the other models gave us accuracy of 25%-40%.\n",
    "we had our 'breakthrough' when we tried to use weights from imagenet. Using those weights improved our prediction to around 70% accuracy, and we decided it's a good enough accuracy for us to use it in our main neural network."
   ]
  }
 ],
 "metadata": {
  "accelerator": "GPU",
  "colab": {
   "authorship_tag": "ABX9TyMi6QALoC0HujuIWcccsSUL",
   "collapsed_sections": [],
   "name": "img_CNN.ipynb",
   "provenance": []
  },
  "gpuClass": "standard",
  "kernelspec": {
   "display_name": "Python 3",
   "language": "python",
   "name": "python3"
  },
  "language_info": {
   "codemirror_mode": {
    "name": "ipython",
    "version": 3
   },
   "file_extension": ".py",
   "mimetype": "text/x-python",
   "name": "python",
   "nbconvert_exporter": "python",
   "pygments_lexer": "ipython3",
   "version": "3.7.7"
  }
 },
 "nbformat": 4,
 "nbformat_minor": 1
}
